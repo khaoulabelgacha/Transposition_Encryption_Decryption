{
 "cells": [
  {
   "cell_type": "code",
   "execution_count": 2,
   "id": "c767c743",
   "metadata": {},
   "outputs": [
    {
     "name": "stdout",
     "output_type": "stream",
     "text": [
      "Tapez votre message: abcdefghijklmnopqrst\n",
      "tapez le nbr de lignes :4\n",
      "tapez le nbr de colonnes :5\n",
      "saisir le 0ème élément de la clé :3\n",
      "saisir le 1ème élément de la clé :2\n",
      "saisir le 2ème élément de la clé :5\n",
      "saisir le 3ème élément de la clé :1\n",
      "saisir le 4ème élément de la clé :4\n",
      "Le message après chiffrement : \n",
      "[['a', 'b', 'c', 'd', 'e'], ['f', 'g', 'h', 'i', 'j'], ['k', 'l', 'm', 'n', 'o'], ['p', 'q', 'r', 's', 't']]\n",
      "dinsbglqafkpejotchmr\n",
      "Le message après déchiffrement : \n",
      "iecamjfhbnkgmcolhrdp\n"
     ]
    }
   ],
   "source": [
    "#Méthde classique de transposition\n",
    "\n",
    "def chiffrage(msg,mat,key,l,c):\n",
    "    k = 0\n",
    "    for i in range(0,l):\n",
    "        for j in range(0,c):\n",
    "            mat[i][j] = msg[k]\n",
    "            k = k +1\n",
    "    print(mat)\n",
    "    msg_chiffre = ''\n",
    "    for i in range(1,c+1):\n",
    "        for j in range(0,l):\n",
    "            msg_chiffre = msg_chiffre + mat[j][key.index(i)]\n",
    "    print(msg_chiffre)\n",
    "\n",
    "\n",
    "    \n",
    "def dechiffrage(msg,mat,key,l,c):  \n",
    "    k=0\n",
    "    for i in range(1,c):\n",
    "        for j in range(0,l):\n",
    "            mat[j][key.index(i)]=msg[k]\n",
    "    \n",
    "            k=k+1\n",
    "    matD = ''\n",
    "    for i in range(0,l):\n",
    "        for j in range(0,c):\n",
    "            matD = matD+mat[i][j]\n",
    "    print(matD)\n",
    "\n",
    "msg = input(\"Tapez votre message: \")\n",
    "l = int(input(\"tapez le nbr de lignes :\"))\n",
    "c = int(input(\"tapez le nbr de colonnes :\"))\n",
    "mat = [[ 0 for i in range(c)] for j in range(l)]\n",
    "key = [0 for i in range(c)]\n",
    "for i in range(0,c):\n",
    "    key[i]=int(input(f\"saisir le {i}ème élément de la clé :\"))\n",
    "\n",
    "print(\"Le message après chiffrement : \")\n",
    "chiffrage(msg,mat,key,l,c)\n",
    "print(\"Le message après déchiffrement : \")\n",
    "dechiffrage(msg,mat,key,l,c)\n",
    "\n",
    "\n",
    "\n",
    "\n",
    "\n"
   ]
  },
  {
   "cell_type": "code",
   "execution_count": null,
   "id": "ac8f60e0",
   "metadata": {},
   "outputs": [],
   "source": []
  }
 ],
 "metadata": {
  "kernelspec": {
   "display_name": "Python 3",
   "language": "python",
   "name": "python3"
  },
  "language_info": {
   "codemirror_mode": {
    "name": "ipython",
    "version": 3
   },
   "file_extension": ".py",
   "mimetype": "text/x-python",
   "name": "python",
   "nbconvert_exporter": "python",
   "pygments_lexer": "ipython3",
   "version": "3.8.8"
  }
 },
 "nbformat": 4,
 "nbformat_minor": 5
}
